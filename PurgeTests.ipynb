{
 "cells": [
  {
   "cell_type": "markdown",
   "metadata": {
    "collapsed": true,
    "pycharm": {
     "name": "#%% md\n"
    }
   },
   "source": [
    "# Testing Purge Functions in AWS\n",
    "\n",
    "## Purging with older than"
   ]
  },
  {
   "cell_type": "code",
   "execution_count": 5,
   "outputs": [
    {
     "name": "stdout",
     "output_type": "stream",
     "text": [
      "Removing...C:\\scratch\\removeThem\\buda - copia.csv\n",
      "Removing...C:\\scratch\\removeThem\\buda.csv\n"
     ]
    }
   ],
   "source": [
    "from pathlib import Path\n",
    "import arrow\n",
    "import os\n",
    "\n",
    "filesPath = r\"C:\\scratch\\removeThem\"\n",
    "\n",
    "criticalTime = arrow.now().shift(hours=+5).shift(days=-7)\n",
    "\n",
    "for item in Path(filesPath).glob('*'):\n",
    "    if item.is_file():\n",
    "        itemTime = arrow.get(item.stat().st_mtime)\n",
    "        if itemTime < criticalTime:\n",
    "            print('Removing...' + str(item.absolute()))\n",
    "            os.remove(str(item.absolute()))\n",
    "            #pass\n"
   ],
   "metadata": {
    "collapsed": false,
    "pycharm": {
     "name": "#%%\n"
    }
   }
  },
  {
   "cell_type": "code",
   "execution_count": null,
   "outputs": [],
   "source": [
    "path = os.path.abspath('Caroe.mp4')\n",
    "ext = path.split('.')[-1]\n",
    "print(path)\n",
    "print(ext)\n",
    "\n"
   ],
   "metadata": {
    "collapsed": false,
    "pycharm": {
     "name": "#%%\n"
    }
   }
  }
 ],
 "metadata": {
  "kernelspec": {
   "display_name": "Python 3",
   "language": "python",
   "name": "python3"
  },
  "language_info": {
   "codemirror_mode": {
    "name": "ipython",
    "version": 2
   },
   "file_extension": ".py",
   "mimetype": "text/x-python",
   "name": "python",
   "nbconvert_exporter": "python",
   "pygments_lexer": "ipython2",
   "version": "2.7.6"
  }
 },
 "nbformat": 4,
 "nbformat_minor": 0
}